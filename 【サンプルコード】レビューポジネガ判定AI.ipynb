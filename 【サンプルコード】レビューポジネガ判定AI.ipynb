{
 "cells": [
  {
   "cell_type": "code",
   "execution_count": null,
   "metadata": {},
   "outputs": [],
   "source": [
    "!pip install janome\n",
    "!pip install gensim"
   ]
  },
  {
   "cell_type": "code",
   "execution_count": 2,
   "metadata": {},
   "outputs": [],
   "source": [
    "import numpy as np\n",
    "import janome\n",
    "from janome.tokenizer import Tokenizer\n",
    "from gensim import corpora, matutils"
   ]
  },
  {
   "cell_type": "code",
   "execution_count": 28,
   "metadata": {},
   "outputs": [
    {
     "name": "stdout",
     "output_type": "stream",
     "text": [
      "単語： わたし 、原型： わたし 、品詞： 名詞\n",
      "***************\n",
      "単語： 、 、原型： 、 、品詞： 記号\n",
      "***************\n",
      "単語： いつき 、原型： いつく 、品詞： 動詞\n",
      "***************\n",
      "単語： ちゃんと 、原型： ちゃんと 、品詞： 副詞\n",
      "***************\n",
      "単語： いっぱい 、原型： いっぱい 、品詞： 副詞\n",
      "***************\n",
      "単語： お話 、原型： お話 、品詞： 名詞\n",
      "***************\n",
      "単語： し 、原型： する 、品詞： 動詞\n",
      "***************\n",
      "単語： たい 、原型： たい 、品詞： 助動詞\n",
      "***************\n",
      "単語： わ 、原型： わ 、品詞： 助詞\n",
      "***************\n",
      "単語： ！ 、原型： ！ 、品詞： 記号\n",
      "***************\n",
      "単語： そうね 、原型： そうね 、品詞： 感動詞\n",
      "***************\n",
      "単語： 、 、原型： 、 、品詞： 記号\n",
      "***************\n",
      "単語： 好き 、原型： 好き 、品詞： 名詞\n",
      "***************\n",
      "単語： な 、原型： だ 、品詞： 助動詞\n",
      "***************\n",
      "単語： 食べ物 、原型： 食べ物 、品詞： 名詞\n",
      "***************\n",
      "単語： は 、原型： は 、品詞： 助詞\n",
      "***************\n",
      "単語： なぁ 、原型： なぁ 、品詞： 助詞\n",
      "***************\n",
      "単語： に 、原型： に 、品詞： 助詞\n",
      "***************\n",
      "単語： ？ 、原型： ？ 、品詞： 記号\n",
      "***************\n"
     ]
    }
   ],
   "source": [
    "text = \"わたし、いつきちゃんといっぱいお話したいわ！そうね、好きな食べ物はなぁに？\"\n",
    "\n",
    "tokenizer = Tokenizer()\n",
    "tokenizer = tokenizer.tokenize(text)\n",
    "\n",
    "for i in tokenizer:\n",
    "\n",
    "    # 単語を表示\n",
    "    source = i.surface\n",
    "    # 単語を標準形に修正\n",
    "    word = i.base_form\n",
    "    # 品詞を取得\n",
    "    part = i.part_of_speech.split(',')[0]\n",
    "    \n",
    "    print(\"単語：\", source, \"、原型：\", word, \"、品詞：\", part)\n",
    "    print('***************')"
   ]
  },
  {
   "cell_type": "code",
   "execution_count": null,
   "metadata": {},
   "outputs": [],
   "source": []
  },
  {
   "cell_type": "code",
   "execution_count": null,
   "metadata": {},
   "outputs": [],
   "source": []
  },
  {
   "cell_type": "code",
   "execution_count": 115,
   "metadata": {},
   "outputs": [],
   "source": [
    "review_1 = 'とても良かったと思います。Pythonの実践的なコーディング手順が習得できました。'\n",
    "review_2 = '初心者向けと書いてある割には、説明が不足していたと思います。悪くは無いのですが自分には難しかったです。'\n",
    "review_3 = '非常に良かったです！他の本では理解できなかった内容がスッキリ理解できました。'\n",
    "review_4 = 'んー。悪くないとは思うんだけど私には合わない本でした'\n",
    "review_5 = 'この本のおかげでPythonのコードがスラスラ書けるようになりました。少し難しかったけど買って良かったです。'\n",
    "reviews = [review_1, review_2, review_3, review_4, review_5]\n",
    "\n",
    "posi_nega = ['ポジ','ネガ','ポジ','ネガ','ポジ']"
   ]
  },
  {
   "cell_type": "code",
   "execution_count": 116,
   "metadata": {},
   "outputs": [],
   "source": [
    "word_list = []\n",
    "for review in reviews:\n",
    "    tokenizer = Tokenizer()\n",
    "    tokens = tokenizer.tokenize(review)\n",
    "    words = []\n",
    "    for token in tokens:\n",
    "        # 単語を標準形に修正\n",
    "        word = token.base_form\n",
    "        # 品詞を取得\n",
    "        part = token.part_of_speech.split(',')[0]\n",
    "        # ポジネガに関係なさそうな品詞を除外\n",
    "        if (part!='助詞')and(part!='助動詞')and(part!='記号'):\n",
    "            words.append(word)\n",
    "\n",
    "    word_list.append(words)"
   ]
  },
  {
   "cell_type": "code",
   "execution_count": 117,
   "metadata": {},
   "outputs": [
    {
     "data": {
      "text/plain": [
       "[['とても', '良い', '思う', 'Python', '実践', '的', 'コーディング', '手順', '習得', 'できる'],\n",
       " ['初心者',\n",
       "  '向け',\n",
       "  '書く',\n",
       "  'ある',\n",
       "  '割',\n",
       "  '説明',\n",
       "  '不足',\n",
       "  'する',\n",
       "  'いる',\n",
       "  '思う',\n",
       "  '悪い',\n",
       "  '無い',\n",
       "  'の',\n",
       "  '自分',\n",
       "  '難しい'],\n",
       " ['非常', '良い', '他', '本', '理解', 'できる', '内容', 'スッキリ', '理解', 'できる'],\n",
       " ['ー', '悪い', '思う', 'ん', '私', '合う', '本'],\n",
       " ['この',\n",
       "  '本',\n",
       "  'おかげ',\n",
       "  'Python',\n",
       "  'コード',\n",
       "  'スラスラ',\n",
       "  '書ける',\n",
       "  'よう',\n",
       "  'なる',\n",
       "  '少し',\n",
       "  '難しい',\n",
       "  '買う',\n",
       "  '良い']]"
      ]
     },
     "execution_count": 117,
     "metadata": {},
     "output_type": "execute_result"
    }
   ],
   "source": [
    "word_list"
   ]
  },
  {
   "cell_type": "code",
   "execution_count": 118,
   "metadata": {},
   "outputs": [
    {
     "data": {
      "text/plain": [
       "{'Python': 0,\n",
       " 'ある': 10,\n",
       " 'いる': 11,\n",
       " 'おかげ': 34,\n",
       " 'この': 35,\n",
       " 'する': 12,\n",
       " 'できる': 1,\n",
       " 'とても': 2,\n",
       " 'なる': 36,\n",
       " 'の': 13,\n",
       " 'よう': 37,\n",
       " 'ん': 30,\n",
       " 'コーディング': 3,\n",
       " 'コード': 38,\n",
       " 'スッキリ': 24,\n",
       " 'スラスラ': 39,\n",
       " 'ー': 31,\n",
       " '不足': 14,\n",
       " '他': 25,\n",
       " '内容': 26,\n",
       " '初心者': 15,\n",
       " '割': 16,\n",
       " '合う': 32,\n",
       " '向け': 17,\n",
       " '実践': 4,\n",
       " '少し': 40,\n",
       " '思う': 5,\n",
       " '悪い': 18,\n",
       " '手順': 6,\n",
       " '書く': 19,\n",
       " '書ける': 41,\n",
       " '本': 27,\n",
       " '無い': 20,\n",
       " '理解': 28,\n",
       " '的': 7,\n",
       " '私': 33,\n",
       " '習得': 8,\n",
       " '自分': 21,\n",
       " '良い': 9,\n",
       " '説明': 22,\n",
       " '買う': 42,\n",
       " '難しい': 23,\n",
       " '非常': 29}"
      ]
     },
     "execution_count": 118,
     "metadata": {},
     "output_type": "execute_result"
    }
   ],
   "source": [
    "# 分かち書きした文書から辞書を作る\n",
    "dictionary = corpora.Dictionary(word_list)\n",
    "\n",
    "# 辞書の確認\n",
    "dictionary.token2id"
   ]
  },
  {
   "cell_type": "code",
   "execution_count": 119,
   "metadata": {},
   "outputs": [],
   "source": [
    "# 辞書からBoWを作る（ID番号と、登場回数）\n",
    "bow_1 = dictionary.doc2bow(word_list[0])\n",
    "bow_2 = dictionary.doc2bow(word_list[2])\n",
    "bow_3 = dictionary.doc2bow(word_list[2])\n",
    "bow_4 = dictionary.doc2bow(word_list[3])\n",
    "bow_5 = dictionary.doc2bow(word_list[4])"
   ]
  },
  {
   "cell_type": "code",
   "execution_count": 120,
   "metadata": {},
   "outputs": [
    {
     "data": {
      "text/plain": [
       "[(0, 1),\n",
       " (1, 1),\n",
       " (2, 1),\n",
       " (3, 1),\n",
       " (4, 1),\n",
       " (5, 1),\n",
       " (6, 1),\n",
       " (7, 1),\n",
       " (8, 1),\n",
       " (9, 1)]"
      ]
     },
     "execution_count": 120,
     "metadata": {},
     "output_type": "execute_result"
    }
   ],
   "source": [
    "bow_1"
   ]
  },
  {
   "cell_type": "code",
   "execution_count": 121,
   "metadata": {},
   "outputs": [
    {
     "data": {
      "text/plain": [
       "[(1, 2), (9, 1), (24, 1), (25, 1), (26, 1), (27, 1), (28, 2), (29, 1)]"
      ]
     },
     "execution_count": 121,
     "metadata": {},
     "output_type": "execute_result"
    }
   ],
   "source": [
    "bow_2"
   ]
  },
  {
   "cell_type": "code",
   "execution_count": 122,
   "metadata": {},
   "outputs": [
    {
     "data": {
      "text/plain": [
       "(10, 8, 8, 7, 13)"
      ]
     },
     "execution_count": 122,
     "metadata": {},
     "output_type": "execute_result"
    }
   ],
   "source": [
    "# 長さを確認すると、バラバラ\n",
    "len(bow_1), len(bow_2), len(bow_3), len(bow_4), len(bow_5)"
   ]
  },
  {
   "cell_type": "code",
   "execution_count": 123,
   "metadata": {},
   "outputs": [],
   "source": [
    "# 長さを揃える\n",
    "bow_1 = matutils.corpus2dense([bow_1], len(dictionary))\n",
    "bow_2 = matutils.corpus2dense([bow_2], len(dictionary))\n",
    "bow_3 = matutils.corpus2dense([bow_3], len(dictionary))\n",
    "bow_4 = matutils.corpus2dense([bow_4], len(dictionary))\n",
    "bow_5 = matutils.corpus2dense([bow_5], len(dictionary))"
   ]
  },
  {
   "cell_type": "code",
   "execution_count": 125,
   "metadata": {
    "scrolled": true
   },
   "outputs": [
    {
     "data": {
      "text/plain": [
       "array([[1.],\n",
       "       [1.],\n",
       "       [1.],\n",
       "       [1.],\n",
       "       [1.],\n",
       "       [1.],\n",
       "       [1.],\n",
       "       [1.],\n",
       "       [1.],\n",
       "       [1.],\n",
       "       [0.],\n",
       "       [0.],\n",
       "       [0.],\n",
       "       [0.],\n",
       "       [0.],\n",
       "       [0.],\n",
       "       [0.],\n",
       "       [0.],\n",
       "       [0.],\n",
       "       [0.],\n",
       "       [0.],\n",
       "       [0.],\n",
       "       [0.],\n",
       "       [0.],\n",
       "       [0.],\n",
       "       [0.],\n",
       "       [0.],\n",
       "       [0.],\n",
       "       [0.],\n",
       "       [0.],\n",
       "       [0.],\n",
       "       [0.],\n",
       "       [0.],\n",
       "       [0.],\n",
       "       [0.],\n",
       "       [0.],\n",
       "       [0.],\n",
       "       [0.],\n",
       "       [0.],\n",
       "       [0.],\n",
       "       [0.],\n",
       "       [0.],\n",
       "       [0.]], dtype=float32)"
      ]
     },
     "execution_count": 125,
     "metadata": {},
     "output_type": "execute_result"
    }
   ],
   "source": [
    "bow_1"
   ]
  },
  {
   "cell_type": "code",
   "execution_count": 126,
   "metadata": {},
   "outputs": [
    {
     "data": {
      "text/plain": [
       "(43, 43, 43, 43, 43)"
      ]
     },
     "execution_count": 126,
     "metadata": {},
     "output_type": "execute_result"
    }
   ],
   "source": [
    "# 長さが揃う\n",
    "len(bow_1), len(bow_2), len(bow_3), len(bow_4), len(bow_5)"
   ]
  },
  {
   "cell_type": "code",
   "execution_count": 127,
   "metadata": {},
   "outputs": [],
   "source": [
    "# ディープラーニングで扱う為に、ベクトルを縦向き ⇒ 横向きに変換する\n",
    "bow_1 = bow_1.reshape(len(dictionary))\n",
    "bow_2 = bow_2.reshape(len(dictionary))\n",
    "bow_3 = bow_3.reshape(len(dictionary))\n",
    "bow_4 = bow_4.reshape(len(dictionary))\n",
    "bow_5 = bow_5.reshape(len(dictionary))"
   ]
  },
  {
   "cell_type": "code",
   "execution_count": 128,
   "metadata": {},
   "outputs": [
    {
     "data": {
      "text/plain": [
       "(43,)"
      ]
     },
     "execution_count": 128,
     "metadata": {},
     "output_type": "execute_result"
    }
   ],
   "source": [
    "bow_1.shape"
   ]
  },
  {
   "cell_type": "code",
   "execution_count": 129,
   "metadata": {},
   "outputs": [
    {
     "data": {
      "text/plain": [
       "array([1., 1., 1., 1., 1., 1., 1., 1., 1., 1., 0., 0., 0., 0., 0., 0., 0.,\n",
       "       0., 0., 0., 0., 0., 0., 0., 0., 0., 0., 0., 0., 0., 0., 0., 0., 0.,\n",
       "       0., 0., 0., 0., 0., 0., 0., 0., 0.], dtype=float32)"
      ]
     },
     "execution_count": 129,
     "metadata": {},
     "output_type": "execute_result"
    }
   ],
   "source": [
    "bow_1"
   ]
  },
  {
   "cell_type": "code",
   "execution_count": 130,
   "metadata": {},
   "outputs": [
    {
     "data": {
      "text/plain": [
       "array([[1., 1., 1., 1., 1., 1., 1., 1., 1., 1., 0., 0., 0., 0., 0., 0.,\n",
       "        0., 0., 0., 0., 0., 0., 0., 0., 0., 0., 0., 0., 0., 0., 0., 0.,\n",
       "        0., 0., 0., 0., 0., 0., 0., 0., 0., 0., 0.],\n",
       "       [0., 2., 0., 0., 0., 0., 0., 0., 0., 1., 0., 0., 0., 0., 0., 0.,\n",
       "        0., 0., 0., 0., 0., 0., 0., 0., 1., 1., 1., 1., 2., 1., 0., 0.,\n",
       "        0., 0., 0., 0., 0., 0., 0., 0., 0., 0., 0.],\n",
       "       [0., 2., 0., 0., 0., 0., 0., 0., 0., 1., 0., 0., 0., 0., 0., 0.,\n",
       "        0., 0., 0., 0., 0., 0., 0., 0., 1., 1., 1., 1., 2., 1., 0., 0.,\n",
       "        0., 0., 0., 0., 0., 0., 0., 0., 0., 0., 0.],\n",
       "       [0., 0., 0., 0., 0., 1., 0., 0., 0., 0., 0., 0., 0., 0., 0., 0.,\n",
       "        0., 0., 1., 0., 0., 0., 0., 0., 0., 0., 0., 1., 0., 0., 1., 1.,\n",
       "        1., 1., 0., 0., 0., 0., 0., 0., 0., 0., 0.],\n",
       "       [1., 0., 0., 0., 0., 0., 0., 0., 0., 1., 0., 0., 0., 0., 0., 0.,\n",
       "        0., 0., 0., 0., 0., 0., 0., 1., 0., 0., 0., 1., 0., 0., 0., 0.,\n",
       "        0., 0., 1., 1., 1., 1., 1., 1., 1., 1., 1.]], dtype=float32)"
      ]
     },
     "execution_count": 130,
     "metadata": {},
     "output_type": "execute_result"
    }
   ],
   "source": [
    "# ニューラルネットワークに入力するために、np.array型に集約する\n",
    "x = np.array([bow_1, bow_2, bow_3, bow_4, bow_5])\n",
    "x"
   ]
  },
  {
   "cell_type": "code",
   "execution_count": 144,
   "metadata": {},
   "outputs": [
    {
     "data": {
      "text/plain": [
       "array([1, 0, 1, 0, 1])"
      ]
     },
     "execution_count": 144,
     "metadata": {},
     "output_type": "execute_result"
    }
   ],
   "source": [
    "# ポジネガのラベルを「0：ネガ、１：ポジ」に変換してnp.array型に集約\n",
    "t = []\n",
    "for i in posi_nega:\n",
    "    if i == 'ポジ':\n",
    "        t.append(1)\n",
    "    else:\n",
    "        t.append(0)\n",
    "\n",
    "t = np.array(t)\n",
    "t"
   ]
  },
  {
   "cell_type": "code",
   "execution_count": 157,
   "metadata": {},
   "outputs": [],
   "source": [
    "# Kerasをインポート\n",
    "import keras\n",
    "from keras.models import Sequential\n",
    "from keras.layers import Dense\n",
    "from keras.utils import np_utils\n",
    "from sklearn.model_selection import train_test_split"
   ]
  },
  {
   "cell_type": "code",
   "execution_count": 158,
   "metadata": {},
   "outputs": [],
   "source": [
    "# 正解ラベルをOne-Hot形式に変換\n",
    "t = np_utils.to_categorical(t)\n",
    "\n",
    "# データとTrain, Valに分割\n",
    "x_train, x_val, t_train, t_val = train_test_split(x, t, train_size=0.7, random_state=0)"
   ]
  },
  {
   "cell_type": "code",
   "execution_count": 159,
   "metadata": {},
   "outputs": [],
   "source": [
    "# ニューラルネットワークの定義（簡単な３層）\n",
    "# 難易度を下げるためにSequentialで書きましょう\n",
    "\n",
    "np.random.seed(0)\n",
    "model = Sequential()\n",
    "model.add(Dense(10, input_shape=bow_1.shape, activation='relu'))\n",
    "model.add(Dense(2, activation='softmax'))\n",
    "optimizser = keras.optimizers.Adam()\n",
    "model.compile(loss='categorical_crossentropy', optimizer=optimizser, metrics=['accuracy'])"
   ]
  },
  {
   "cell_type": "code",
   "execution_count": 160,
   "metadata": {},
   "outputs": [
    {
     "name": "stdout",
     "output_type": "stream",
     "text": [
      "WARNING:tensorflow:From C:\\Users\\midni\\Anaconda3\\lib\\site-packages\\tensorflow\\python\\ops\\math_ops.py:3066: to_int32 (from tensorflow.python.ops.math_ops) is deprecated and will be removed in a future version.\n",
      "Instructions for updating:\n",
      "Use tf.cast instead.\n",
      "Train on 3 samples, validate on 2 samples\n",
      "Epoch 1/10\n",
      "3/3 [==============================] - 0s 156ms/step - loss: 0.6775 - acc: 0.6667 - val_loss: 1.3151 - val_acc: 0.0000e+00\n",
      "Epoch 2/10\n",
      "3/3 [==============================] - 0s 664us/step - loss: 0.6618 - acc: 0.6667 - val_loss: 1.3165 - val_acc: 0.0000e+00\n",
      "Epoch 3/10\n",
      "3/3 [==============================] - 0s 1ms/step - loss: 0.6486 - acc: 0.6667 - val_loss: 1.3179 - val_acc: 0.0000e+00\n",
      "Epoch 4/10\n",
      "3/3 [==============================] - 0s 1ms/step - loss: 0.6347 - acc: 0.6667 - val_loss: 1.3194 - val_acc: 0.0000e+00\n",
      "Epoch 5/10\n",
      "3/3 [==============================] - 0s 1ms/step - loss: 0.6206 - acc: 0.6667 - val_loss: 1.3211 - val_acc: 0.0000e+00\n",
      "Epoch 6/10\n",
      "3/3 [==============================] - 0s 1000us/step - loss: 0.6065 - acc: 0.6667 - val_loss: 1.3228 - val_acc: 0.0000e+00\n",
      "Epoch 7/10\n",
      "3/3 [==============================] - 0s 1ms/step - loss: 0.5920 - acc: 0.6667 - val_loss: 1.3247 - val_acc: 0.0000e+00\n",
      "Epoch 8/10\n",
      "3/3 [==============================] - 0s 1000us/step - loss: 0.5780 - acc: 0.6667 - val_loss: 1.3266 - val_acc: 0.0000e+00\n",
      "Epoch 9/10\n",
      "3/3 [==============================] - 0s 1ms/step - loss: 0.5662 - acc: 0.6667 - val_loss: 1.3291 - val_acc: 0.0000e+00\n",
      "Epoch 10/10\n",
      "3/3 [==============================] - 0s 1ms/step - loss: 0.5550 - acc: 0.6667 - val_loss: 1.3320 - val_acc: 0.0000e+00\n"
     ]
    }
   ],
   "source": [
    "# 学習の実行\n",
    "history = model.fit(x_train, t_train,\n",
    "          batch_size=5,\n",
    "          epochs=10,\n",
    "          verbose=1,\n",
    "          validation_data=(x_val, t_val))"
   ]
  },
  {
   "cell_type": "code",
   "execution_count": 165,
   "metadata": {},
   "outputs": [
    {
     "data": {
      "text/plain": [
       "array([[0.7969379 , 0.20306216],\n",
       "       [0.65687597, 0.34312403]], dtype=float32)"
      ]
     },
     "execution_count": 165,
     "metadata": {},
     "output_type": "execute_result"
    }
   ],
   "source": [
    "# 予測を実行してみる\n",
    "results = model.predict(x_val)\n",
    "results #左が「０：ネガ」の確率、右が「１：ポジ」の確率 ⇒ 確率なので足すと合計１になる"
   ]
  },
  {
   "cell_type": "code",
   "execution_count": 169,
   "metadata": {},
   "outputs": [
    {
     "name": "stdout",
     "output_type": "stream",
     "text": [
      "ネガ\n",
      "ネガ\n"
     ]
    }
   ],
   "source": [
    "# ポジネガの判定\n",
    "for result in results:\n",
    "    result = result.argmax()\n",
    "    if result == 0:\n",
    "        print('ネガ')\n",
    "    else:\n",
    "        print('ポジ')"
   ]
  },
  {
   "cell_type": "code",
   "execution_count": null,
   "metadata": {},
   "outputs": [],
   "source": []
  },
  {
   "cell_type": "code",
   "execution_count": null,
   "metadata": {},
   "outputs": [],
   "source": []
  },
  {
   "cell_type": "code",
   "execution_count": null,
   "metadata": {},
   "outputs": [],
   "source": []
  },
  {
   "cell_type": "code",
   "execution_count": null,
   "metadata": {},
   "outputs": [],
   "source": []
  },
  {
   "cell_type": "code",
   "execution_count": null,
   "metadata": {},
   "outputs": [],
   "source": []
  },
  {
   "cell_type": "code",
   "execution_count": null,
   "metadata": {},
   "outputs": [],
   "source": []
  }
 ],
 "metadata": {
  "kernelspec": {
   "display_name": "Python 3",
   "language": "python",
   "name": "python3"
  },
  "language_info": {
   "codemirror_mode": {
    "name": "ipython",
    "version": 3
   },
   "file_extension": ".py",
   "mimetype": "text/x-python",
   "name": "python",
   "nbconvert_exporter": "python",
   "pygments_lexer": "ipython3",
   "version": "3.6.7"
  }
 },
 "nbformat": 4,
 "nbformat_minor": 2
}
